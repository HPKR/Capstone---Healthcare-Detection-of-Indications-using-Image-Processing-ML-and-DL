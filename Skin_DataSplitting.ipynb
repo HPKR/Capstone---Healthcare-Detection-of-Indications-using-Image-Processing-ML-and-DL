{
 "cells": [
  {
   "cell_type": "markdown",
   "metadata": {},
   "source": [
    "# **Introduction**\n",
    "\n",
    "**<font size=\"3.5\">_This notebook is built under Capstone Project `Healthcare Detection of Indications using Image Processing (ML and DL)`. In this notebook, we are building the model for skin lesions by training the model on HAM10000 dataset_</font>**"
   ]
  },
  {
   "cell_type": "markdown",
   "metadata": {},
   "source": [
    "## **Part 1: Data Processing**"
   ]
  },
  {
   "cell_type": "markdown",
   "metadata": {},
   "source": [
    "### **Import Standard Libraries**"
   ]
  },
  {
   "cell_type": "code",
   "execution_count": 1,
   "metadata": {},
   "outputs": [],
   "source": [
    "import numpy as np #For numerical calculations\n",
    "import pandas as pd\n",
    "\n",
    "import matplotlib.pyplot as plt #For Visualization\n",
    "\n",
    "import tensorflow as tf #For Implementation of Deep Learning Models\n",
    "from tensorflow import keras #Keras library to import raw ingredients for ConvNet Deep Learning Model\n",
    "from keras import layers, initializers #To add Layers and Weights to the layers, respectively\n",
    "from keras.models import Sequential #To group a linear stack of layers for ConvNet model\n",
    "from keras import preprocessing #To perform preprocessing operations on the data to make it ready for model building\n",
    "from keras.preprocessing.image import ImageDataGenerator, load_img, img_to_array #To perform Image Data Augmentation and to view the\n",
    "                                                                                #augmented images by converting them into arrayed format\n",
    "\n",
    "#Import Various Layers for add fully connected layer, Convolution layer, Pooling Layers, Dropout layer, Flattening the inputs\n",
    "from keras.layers import Dense, Conv2D, MaxPooling2D, GlobalMaxPooling2D, Dropout, Flatten\n",
    "from keras.regularizers import l1, l2 #To add penalty as regularizer\n",
    "from keras.callbacks import EarlyStopping #For Early Stopping the model before running the specified number of epochs\n",
    "\n",
    "import os #Module to interact with operating system\n",
    "\n",
    "from warnings import filterwarnings #To ignore warnings\n",
    "filterwarnings(\"ignore\")"
   ]
  },
  {
   "cell_type": "code",
   "execution_count": 2,
   "metadata": {},
   "outputs": [],
   "source": [
    "from sklearn.metrics import confusion_matrix, f1_score\n",
    "from sklearn.model_selection import train_test_split\n",
    "\n",
    "from keras.preprocessing.image import ImageDataGenerator\n"
   ]
  },
  {
   "cell_type": "markdown",
   "metadata": {},
   "source": [
    "### **Read the Metadata**"
   ]
  },
  {
   "cell_type": "code",
   "execution_count": 3,
   "metadata": {},
   "outputs": [
    {
     "name": "stdout",
     "output_type": "stream",
     "text": [
      "{'encoding': 'ascii', 'confidence': 1.0, 'language': ''}\n"
     ]
    }
   ],
   "source": [
    "import chardet\n",
    "\n",
    "# use the detect method to find the encoding\n",
    "# 'rb' means read in the file as binary\n",
    "with open(\"HAM10000/HAM10000_metadata.csv\", 'rb') as file:\n",
    "    print(chardet.detect(file.read()))"
   ]
  },
  {
   "cell_type": "code",
   "execution_count": 4,
   "metadata": {},
   "outputs": [],
   "source": [
    "metadata = pd.read_csv(\"HAM10000/HAM10000_metadata.csv\", encoding='Windows-1252')"
   ]
  },
  {
   "cell_type": "code",
   "execution_count": 5,
   "metadata": {},
   "outputs": [
    {
     "data": {
      "text/html": [
       "<div>\n",
       "<style scoped>\n",
       "    .dataframe tbody tr th:only-of-type {\n",
       "        vertical-align: middle;\n",
       "    }\n",
       "\n",
       "    .dataframe tbody tr th {\n",
       "        vertical-align: top;\n",
       "    }\n",
       "\n",
       "    .dataframe thead th {\n",
       "        text-align: right;\n",
       "    }\n",
       "</style>\n",
       "<table border=\"1\" class=\"dataframe\">\n",
       "  <thead>\n",
       "    <tr style=\"text-align: right;\">\n",
       "      <th></th>\n",
       "      <th>lesion_id</th>\n",
       "      <th>image_id</th>\n",
       "      <th>dx</th>\n",
       "      <th>dx_type</th>\n",
       "      <th>age</th>\n",
       "      <th>sex</th>\n",
       "      <th>localization</th>\n",
       "      <th>dataset</th>\n",
       "    </tr>\n",
       "  </thead>\n",
       "  <tbody>\n",
       "    <tr>\n",
       "      <th>0</th>\n",
       "      <td>HAM_0000118</td>\n",
       "      <td>ISIC_0027419</td>\n",
       "      <td>bkl</td>\n",
       "      <td>histo</td>\n",
       "      <td>80.0</td>\n",
       "      <td>male</td>\n",
       "      <td>scalp</td>\n",
       "      <td>vidir_modern</td>\n",
       "    </tr>\n",
       "    <tr>\n",
       "      <th>1</th>\n",
       "      <td>HAM_0000118</td>\n",
       "      <td>ISIC_0025030</td>\n",
       "      <td>bkl</td>\n",
       "      <td>histo</td>\n",
       "      <td>80.0</td>\n",
       "      <td>male</td>\n",
       "      <td>scalp</td>\n",
       "      <td>vidir_modern</td>\n",
       "    </tr>\n",
       "    <tr>\n",
       "      <th>2</th>\n",
       "      <td>HAM_0002730</td>\n",
       "      <td>ISIC_0026769</td>\n",
       "      <td>bkl</td>\n",
       "      <td>histo</td>\n",
       "      <td>80.0</td>\n",
       "      <td>male</td>\n",
       "      <td>scalp</td>\n",
       "      <td>vidir_modern</td>\n",
       "    </tr>\n",
       "    <tr>\n",
       "      <th>3</th>\n",
       "      <td>HAM_0002730</td>\n",
       "      <td>ISIC_0025661</td>\n",
       "      <td>bkl</td>\n",
       "      <td>histo</td>\n",
       "      <td>80.0</td>\n",
       "      <td>male</td>\n",
       "      <td>scalp</td>\n",
       "      <td>vidir_modern</td>\n",
       "    </tr>\n",
       "    <tr>\n",
       "      <th>4</th>\n",
       "      <td>HAM_0001466</td>\n",
       "      <td>ISIC_0031633</td>\n",
       "      <td>bkl</td>\n",
       "      <td>histo</td>\n",
       "      <td>75.0</td>\n",
       "      <td>male</td>\n",
       "      <td>ear</td>\n",
       "      <td>vidir_modern</td>\n",
       "    </tr>\n",
       "  </tbody>\n",
       "</table>\n",
       "</div>"
      ],
      "text/plain": [
       "     lesion_id      image_id   dx dx_type   age   sex localization  \\\n",
       "0  HAM_0000118  ISIC_0027419  bkl   histo  80.0  male        scalp   \n",
       "1  HAM_0000118  ISIC_0025030  bkl   histo  80.0  male        scalp   \n",
       "2  HAM_0002730  ISIC_0026769  bkl   histo  80.0  male        scalp   \n",
       "3  HAM_0002730  ISIC_0025661  bkl   histo  80.0  male        scalp   \n",
       "4  HAM_0001466  ISIC_0031633  bkl   histo  75.0  male          ear   \n",
       "\n",
       "        dataset  \n",
       "0  vidir_modern  \n",
       "1  vidir_modern  \n",
       "2  vidir_modern  \n",
       "3  vidir_modern  \n",
       "4  vidir_modern  "
      ]
     },
     "execution_count": 5,
     "metadata": {},
     "output_type": "execute_result"
    }
   ],
   "source": [
    "metadata.head()"
   ]
  },
  {
   "cell_type": "markdown",
   "metadata": {},
   "source": [
    "### **Calculate the number of Images in each Class Label**"
   ]
  },
  {
   "cell_type": "code",
   "execution_count": 6,
   "metadata": {},
   "outputs": [
    {
     "data": {
      "text/plain": [
       "nv       6705\n",
       "mel      1113\n",
       "bkl      1099\n",
       "bcc       514\n",
       "akiec     327\n",
       "vasc      142\n",
       "df        115\n",
       "Name: dx, dtype: int64"
      ]
     },
     "execution_count": 6,
     "metadata": {},
     "output_type": "execute_result"
    }
   ],
   "source": [
    "metadata[\"dx\"].value_counts()"
   ]
  },
  {
   "cell_type": "markdown",
   "metadata": {},
   "source": [
    "**<font size=\"4\">_This indicates that the dataset is imbalanced in nature. This needs to be rectified._</font>**"
   ]
  },
  {
   "cell_type": "code",
   "execution_count": 7,
   "metadata": {},
   "outputs": [],
   "source": [
    "import glob\n",
    "import matplotlib.image as mpimg\n",
    "%matplotlib inline"
   ]
  },
  {
   "cell_type": "markdown",
   "metadata": {},
   "source": [
    "### **Plot the Images**"
   ]
  },
  {
   "cell_type": "code",
   "execution_count": 8,
   "metadata": {},
   "outputs": [
    {
     "data": {
      "image/png": "[encoded data removed]",
      "text/plain": [
       "<Figure size 864x576 with 4 Axes>"
      ]
     },
     "metadata": {
      "needs_background": "light"
     },
     "output_type": "display_data"
    }
   ],
   "source": [
    "images = []\n",
    "for img_path in glob.glob('HAM10000/HAM10000_images_part_1/ISIC_002430*.jpg'):\n",
    "    images.append(mpimg.imread(img_path))\n",
    "\n",
    "plt.figure(figsize=(12,8))\n",
    "columns = 5\n",
    "for i, image in enumerate(images):\n",
    "    plt.subplot(len(images) / columns + 1, columns, i + 1)\n",
    "    plt.imshow(image)\n",
    "    plt.axis(\"off\")"
   ]
  },
  {
   "cell_type": "markdown",
   "metadata": {},
   "source": [
    "**<font size=\"4\">_Images are distributed in two different folders. We need to identify the folder under which the image is present._</font>**"
   ]
  },
  {
   "cell_type": "code",
   "execution_count": 9,
   "metadata": {},
   "outputs": [],
   "source": [
    "import os\n",
    "\n",
    "image_folder_1 = \"HAM10000/HAM10000_images_part_1\"\n",
    "image_folder_2 = \"HAM10000/HAM10000_images_part_2\"\n",
    "\n",
    "metadata[\"folder\"] = 0\n",
    "metadata.set_index(\"image_id\", drop=False, inplace=True)\n",
    "\n",
    "for image in os.listdir(image_folder_1):\n",
    "    image_id = image.split(\".\")[0]\n",
    "    metadata.loc[image_id, \"folder\"] = \"1\"\n",
    "\n",
    "for image in os.listdir(image_folder_2):\n",
    "    image_id = image.split(\".\")[0]\n",
    "    metadata.loc[image_id, \"folder\"] = \"2\""
   ]
  },
  {
   "cell_type": "code",
   "execution_count": 10,
   "metadata": {},
   "outputs": [
    {
     "data": {
      "text/html": [
       "<div>\n",
       "<style scoped>\n",
       "    .dataframe tbody tr th:only-of-type {\n",
       "        vertical-align: middle;\n",
       "    }\n",
       "\n",
       "    .dataframe tbody tr th {\n",
       "        vertical-align: top;\n",
       "    }\n",
       "\n",
       "    .dataframe thead th {\n",
       "        text-align: right;\n",
       "    }\n",
       "</style>\n",
       "<table border=\"1\" class=\"dataframe\">\n",
       "  <thead>\n",
       "    <tr style=\"text-align: right;\">\n",
       "      <th></th>\n",
       "      <th>lesion_id</th>\n",
       "      <th>image_id</th>\n",
       "      <th>dx</th>\n",
       "      <th>dx_type</th>\n",
       "      <th>age</th>\n",
       "      <th>sex</th>\n",
       "      <th>localization</th>\n",
       "      <th>dataset</th>\n",
       "      <th>folder</th>\n",
       "    </tr>\n",
       "    <tr>\n",
       "      <th>image_id</th>\n",
       "      <th></th>\n",
       "      <th></th>\n",
       "      <th></th>\n",
       "      <th></th>\n",
       "      <th></th>\n",
       "      <th></th>\n",
       "      <th></th>\n",
       "      <th></th>\n",
       "      <th></th>\n",
       "    </tr>\n",
       "  </thead>\n",
       "  <tbody>\n",
       "    <tr>\n",
       "      <th>ISIC_0027419</th>\n",
       "      <td>HAM_0000118</td>\n",
       "      <td>ISIC_0027419</td>\n",
       "      <td>bkl</td>\n",
       "      <td>histo</td>\n",
       "      <td>80.0</td>\n",
       "      <td>male</td>\n",
       "      <td>scalp</td>\n",
       "      <td>vidir_modern</td>\n",
       "      <td>1</td>\n",
       "    </tr>\n",
       "    <tr>\n",
       "      <th>ISIC_0025030</th>\n",
       "      <td>HAM_0000118</td>\n",
       "      <td>ISIC_0025030</td>\n",
       "      <td>bkl</td>\n",
       "      <td>histo</td>\n",
       "      <td>80.0</td>\n",
       "      <td>male</td>\n",
       "      <td>scalp</td>\n",
       "      <td>vidir_modern</td>\n",
       "      <td>1</td>\n",
       "    </tr>\n",
       "    <tr>\n",
       "      <th>ISIC_0026769</th>\n",
       "      <td>HAM_0002730</td>\n",
       "      <td>ISIC_0026769</td>\n",
       "      <td>bkl</td>\n",
       "      <td>histo</td>\n",
       "      <td>80.0</td>\n",
       "      <td>male</td>\n",
       "      <td>scalp</td>\n",
       "      <td>vidir_modern</td>\n",
       "      <td>1</td>\n",
       "    </tr>\n",
       "    <tr>\n",
       "      <th>ISIC_0025661</th>\n",
       "      <td>HAM_0002730</td>\n",
       "      <td>ISIC_0025661</td>\n",
       "      <td>bkl</td>\n",
       "      <td>histo</td>\n",
       "      <td>80.0</td>\n",
       "      <td>male</td>\n",
       "      <td>scalp</td>\n",
       "      <td>vidir_modern</td>\n",
       "      <td>1</td>\n",
       "    </tr>\n",
       "    <tr>\n",
       "      <th>ISIC_0031633</th>\n",
       "      <td>HAM_0001466</td>\n",
       "      <td>ISIC_0031633</td>\n",
       "      <td>bkl</td>\n",
       "      <td>histo</td>\n",
       "      <td>75.0</td>\n",
       "      <td>male</td>\n",
       "      <td>ear</td>\n",
       "      <td>vidir_modern</td>\n",
       "      <td>2</td>\n",
       "    </tr>\n",
       "  </tbody>\n",
       "</table>\n",
       "</div>"
      ],
      "text/plain": [
       "                lesion_id      image_id   dx dx_type   age   sex localization  \\\n",
       "image_id                                                                        \n",
       "ISIC_0027419  HAM_0000118  ISIC_0027419  bkl   histo  80.0  male        scalp   \n",
       "ISIC_0025030  HAM_0000118  ISIC_0025030  bkl   histo  80.0  male        scalp   \n",
       "ISIC_0026769  HAM_0002730  ISIC_0026769  bkl   histo  80.0  male        scalp   \n",
       "ISIC_0025661  HAM_0002730  ISIC_0025661  bkl   histo  80.0  male        scalp   \n",
       "ISIC_0031633  HAM_0001466  ISIC_0031633  bkl   histo  75.0  male          ear   \n",
       "\n",
       "                   dataset folder  \n",
       "image_id                           \n",
       "ISIC_0027419  vidir_modern      1  \n",
       "ISIC_0025030  vidir_modern      1  \n",
       "ISIC_0026769  vidir_modern      1  \n",
       "ISIC_0025661  vidir_modern      1  \n",
       "ISIC_0031633  vidir_modern      2  "
      ]
     },
     "execution_count": 10,
     "metadata": {},
     "output_type": "execute_result"
    }
   ],
   "source": [
    "metadata.head()"
   ]
  },
  {
   "cell_type": "markdown",
   "metadata": {},
   "source": [
    "### **Check for NaN values in the dataset**"
   ]
  },
  {
   "cell_type": "code",
   "execution_count": 11,
   "metadata": {},
   "outputs": [
    {
     "data": {
      "text/plain": [
       "lesion_id        0\n",
       "image_id         0\n",
       "dx               0\n",
       "dx_type          0\n",
       "age             57\n",
       "sex              0\n",
       "localization     0\n",
       "dataset          0\n",
       "folder           0\n",
       "dtype: int64"
      ]
     },
     "execution_count": 11,
     "metadata": {},
     "output_type": "execute_result"
    }
   ],
   "source": [
    "metadata.isna().sum()"
   ]
  },
  {
   "cell_type": "markdown",
   "metadata": {},
   "source": [
    "**<font size=\"4\">_On observing closely, there are some rows in the dataset where age is NaN. We can replace the NaN value with the average age._</font>**"
   ]
  },
  {
   "cell_type": "code",
   "execution_count": 12,
   "metadata": {},
   "outputs": [
    {
     "name": "stdout",
     "output_type": "stream",
     "text": [
      "51.86\n"
     ]
    }
   ],
   "source": [
    "mean_age = np.round(metadata[\"age\"].mean(),2)\n",
    "print(mean_age)"
   ]
  },
  {
   "cell_type": "code",
   "execution_count": 13,
   "metadata": {},
   "outputs": [
    {
     "data": {
      "text/plain": [
       "lesion_id       0\n",
       "image_id        0\n",
       "dx              0\n",
       "dx_type         0\n",
       "age             0\n",
       "sex             0\n",
       "localization    0\n",
       "dataset         0\n",
       "folder          0\n",
       "dtype: int64"
      ]
     },
     "execution_count": 13,
     "metadata": {},
     "output_type": "execute_result"
    }
   ],
   "source": [
    "metadata[\"age\"].fillna(mean_age, inplace=True)\n",
    "metadata.isna().sum()"
   ]
  },
  {
   "cell_type": "markdown",
   "metadata": {},
   "source": [
    "### **Split the Data into Train, Validation and Test Sets**\n",
    "\n",
    "In the below code cell, we are splitting the metadata into training, validation and test sets in the ratio 60:20:20 respectively."
   ]
  },
  {
   "cell_type": "code",
   "execution_count": 14,
   "metadata": {},
   "outputs": [
    {
     "name": "stdout",
     "output_type": "stream",
     "text": [
      "Train: 0.6\n",
      "Validation: 0.2\n",
      "Test: 0.2\n"
     ]
    }
   ],
   "source": [
    "data_train_1, data_test = train_test_split(metadata, test_size=0.20, stratify=metadata[\"dx\"])\n",
    "#data_train = pd.concat((data_train_1, metadata), axis=0)\n",
    "data_train, data_val = train_test_split(data_train_1, test_size=0.25, stratify=data_train_1[\"dx\"])\n",
    "\n",
    "print(\"Train: \" + str(data_train.shape[0] / metadata.shape[0]))\n",
    "print(\"Validation: \" + str(data_val.shape[0] / metadata.shape[0]))\n",
    "print(\"Test: \" + str(data_test.shape[0] / metadata.shape[0]))\n",
    "val_len = data_val.shape[0]\n",
    "test_len = data_test.shape[0]"
   ]
  },
  {
   "cell_type": "code",
   "execution_count": 15,
   "metadata": {},
   "outputs": [],
   "source": [
    "import shutil"
   ]
  },
  {
   "cell_type": "code",
   "execution_count": 16,
   "metadata": {},
   "outputs": [],
   "source": [
    "base_dir = \"data\"\n",
    "os.mkdir(base_dir)\n",
    "\n",
    "train_dir = os.path.join(base_dir, \"image_train\")\n",
    "os.mkdir(train_dir)\n",
    "\n",
    "val_dir = os.path.join(base_dir, \"image_val\")\n",
    "os.mkdir(val_dir)\n",
    "\n",
    "test_dir = os.path.join(base_dir, \"image_test\")\n",
    "os.mkdir(test_dir)\n",
    "\n",
    "labels = list(metadata[\"dx\"].unique())\n",
    "\n",
    "for label in labels:\n",
    "    label_path_train = os.path.join(train_dir, label)\n",
    "    os.mkdir(label_path_train)\n",
    "    label_path_val = os.path.join(val_dir, label)\n",
    "    os.mkdir(label_path_val)\n",
    "    label_path_test = os.path.join(test_dir, label)\n",
    "    os.mkdir(label_path_test)"
   ]
  },
  {
   "cell_type": "markdown",
   "metadata": {},
   "source": [
    "### Copy Images to respective folders"
   ]
  },
  {
   "cell_type": "code",
   "execution_count": 17,
   "metadata": {},
   "outputs": [],
   "source": [
    "image_dir = \"HAM10000/HAM10000_images_part_\"\n",
    "\n",
    "for i in range(data_train.shape[0]):\n",
    "    image_name = data_train[\"image_id\"][i] + \".jpg\"\n",
    "    src_dir = os.path.join(image_dir + data_train[\"folder\"][i], image_name)\n",
    "    dst_dir = os.path.join(train_dir, data_train[\"dx\"][i], image_name)\n",
    "    shutil.copyfile(src_dir, dst_dir)\n",
    "\n",
    "for i in range(data_val.shape[0]):\n",
    "    image_name = data_val[\"image_id\"][i] + \".jpg\"\n",
    "    src_dir = os.path.join(image_dir + data_val[\"folder\"][i], image_name)\n",
    "    dst_dir = os.path.join(val_dir, data_val[\"dx\"][i], image_name)\n",
    "    shutil.copyfile(src_dir, dst_dir)\n",
    "    \n",
    "for i in range(data_test.shape[0]):\n",
    "    image_name = data_test[\"image_id\"][i] + \".jpg\"\n",
    "    src_dir = os.path.join(image_dir + data_test[\"folder\"][i], image_name)\n",
    "    dst_dir = os.path.join(test_dir, data_test[\"dx\"][i], image_name)\n",
    "    shutil.copyfile(src_dir, dst_dir)"
   ]
  },
  {
   "cell_type": "markdown",
   "metadata": {},
   "source": [
    "### **Number of Images in each Folder**"
   ]
  },
  {
   "cell_type": "code",
   "execution_count": 18,
   "metadata": {},
   "outputs": [
    {
     "name": "stdout",
     "output_type": "stream",
     "text": [
      "TRAIN:\n",
      "bkl\t 659\n",
      "nv\t 4023\n",
      "df\t 69\n",
      "mel\t 668\n",
      "vasc\t 86\n",
      "bcc\t 308\n",
      "akiec\t 196\n",
      "\n",
      "\n",
      "VAL:\n",
      "bkl\t 220\n",
      "nv\t 1341\n",
      "df\t 23\n",
      "mel\t 222\n",
      "vasc\t 28\n",
      "bcc\t 103\n",
      "akiec\t 66\n",
      "\n",
      "\n",
      "TEST:\n",
      "bkl\t 220\n",
      "nv\t 1341\n",
      "df\t 23\n",
      "mel\t 223\n",
      "vasc\t 28\n",
      "bcc\t 103\n",
      "akiec\t 65\n",
      "\n",
      "\n"
     ]
    }
   ],
   "source": [
    "print(\"TRAIN:\")\n",
    "for label in labels:\n",
    "    print(label + \"\\t \"+ str(len(os.listdir(os.path.join(train_dir, label)))))\n",
    "print(\"\\n\")\n",
    "\n",
    "print(\"VAL:\")\n",
    "for label in labels:\n",
    "    print(label + \"\\t \" + str(len(os.listdir(os.path.join(val_dir, label)))))\n",
    "print(\"\\n\")\n",
    "\n",
    "print(\"TEST:\")\n",
    "for label in labels:\n",
    "    print(label + \"\\t \"+ str(len(os.listdir(os.path.join(test_dir, label)))))\n",
    "print(\"\\n\")"
   ]
  }
 ],
 "metadata": {
  "kernelspec": {
   "display_name": "Python 3",
   "language": "python",
   "name": "python3"
  },
  "language_info": {
   "codemirror_mode": {
    "name": "ipython",
    "version": 3
   },
   "file_extension": ".py",
   "mimetype": "text/x-python",
   "name": "python",
   "nbconvert_exporter": "python",
   "pygments_lexer": "ipython3",
   "version": "3.8.5"
  }
 },
 "nbformat": 4,
 "nbformat_minor": 4
}
