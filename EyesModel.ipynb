{
 "cells": [
  {
   "cell_type": "markdown",
   "metadata": {},
   "source": [
    "## Eye Module version 0.04"
   ]
  },
  {
   "cell_type": "code",
   "execution_count": 1,
   "metadata": {},
   "outputs": [],
   "source": [
    "# package inclusions\n",
    "import pickle\n",
    "import matplotlib.pyplot as plt\n",
    "from sklearn.preprocessing import LabelEncoder\n",
    "import cv2\n",
    "from sklearn.model_selection import train_test_split\n",
    "from sklearn.utils import shuffle\n",
    "\n",
    "from tensorflow.keras.models import Sequential\n",
    "from tensorflow.keras.layers import Dense,Dropout,Flatten\n",
    "from tensorflow.keras.layers import Conv2D,MaxPool2D\n",
    "from tensorflow.keras.layers import Input, Dense\n",
    "from keras.utils import to_categorical\n",
    "from tensorflow.keras.models import Model\n",
    "from tensorflow.keras.preprocessing.image import ImageDataGenerator\n",
    "from sklearn.metrics import confusion_matrix\n",
    "import matplotlib.pyplot as plt\n",
    "import tensorflow as tf\n",
    "# from tensorflow.keras.applications.vgg16 import VGG16\n",
    "import pandas as pd\n",
    "import numpy as np\n",
    "import os\n",
    "from numpy import argmax"
   ]
  },
  {
   "cell_type": "code",
   "execution_count": 2,
   "metadata": {},
   "outputs": [
    {
     "data": {
      "text/plain": [
       "['Crossed_Eye', 'Glaucoma', 'healthy']"
      ]
     },
     "execution_count": 2,
     "metadata": {},
     "output_type": "execute_result"
    }
   ],
   "source": [
    "# Get location of input\n",
    "PATH = \"C:\\\\Users\\\\kshit\\\\PyPyProjects\\\\Capstone\\\\BaselineData\"\n",
    "data_dir_list = os.listdir(PATH)\n",
    "data_dir_list"
   ]
  },
  {
   "cell_type": "code",
   "execution_count": 3,
   "metadata": {},
   "outputs": [
    {
     "name": "stdout",
     "output_type": "stream",
     "text": [
      "Getting image from Crossed_Eye folder\n",
      "Getting image from Glaucoma folder\n",
      "Getting image from healthy folder\n"
     ]
    }
   ],
   "source": [
    "img_rows=224\n",
    "img_cols=224\n",
    "num_channel=3\n",
    "\n",
    "img_data_list=[]\n",
    "classes_names_list=[]\n",
    "target_column=[]\n",
    "for dataset in data_dir_list:\n",
    "    classes_names_list.append(dataset)\n",
    "    print(\"Getting image from {} folder\".format(dataset))\n",
    "    img_list= os.listdir(PATH +\"/\"+ dataset)\n",
    "    for img in img_list:\n",
    "        input_img = cv2.imread(PATH +\"/\"+dataset+\"/\"+img)\n",
    "        input_img_resize=cv2.resize(input_img,(img_rows,img_cols))\n",
    "        img_data_list.append(input_img_resize)\n",
    "        target_column.append(dataset)"
   ]
  },
  {
   "cell_type": "code",
   "execution_count": 4,
   "metadata": {},
   "outputs": [
    {
     "name": "stdout",
     "output_type": "stream",
     "text": [
      "num_classes 3\n",
      "Shape of image data (1028, 224, 224, 3)\n",
      "number of samples 1028\n"
     ]
    }
   ],
   "source": [
    "num_classes = len(classes_names_list)\n",
    "print(\"num_classes\",num_classes)\n",
    "img_data = np.array(img_data_list) # convert images in numpy array \n",
    "img_data = img_data.astype('float32')\n",
    "img_data /= 255\n",
    "print(\"Shape of image data\",img_data.shape)\n",
    "num_of_samples = img_data.shape[0]\n",
    "input_shape = img_data[0].shape \n",
    "print(\"number of samples\",num_of_samples)"
   ]
  },
  {
   "cell_type": "code",
   "execution_count": 5,
   "metadata": {},
   "outputs": [
    {
     "data": {
      "text/plain": [
       "array([0, 1, 2], dtype=int64)"
      ]
     },
     "execution_count": 5,
     "metadata": {},
     "output_type": "execute_result"
    }
   ],
   "source": [
    "Labelencoder = LabelEncoder()\n",
    "target_column = Labelencoder.fit_transform(target_column)\n",
    "np.unique(target_column)"
   ]
  },
  {
   "cell_type": "code",
   "execution_count": 6,
   "metadata": {},
   "outputs": [],
   "source": [
    "target_column_hotcoded = to_categorical(target_column,num_classes)\n",
    "X,Y = shuffle(img_data,target_column_hotcoded,random_state=2)\n",
    "X_train,X_temp,y_train,y_temp = train_test_split(X,Y,test_size=0.3,random_state=2)\n",
    "X_test,X_val,y_test,y_val = train_test_split(X_temp,y_temp,test_size=0.3,random_state=2)"
   ]
  },
  {
   "cell_type": "markdown",
   "metadata": {},
   "source": [
    "### Create CNN Architecture"
   ]
  },
  {
   "cell_type": "code",
   "execution_count": 7,
   "metadata": {},
   "outputs": [
    {
     "name": "stdout",
     "output_type": "stream",
     "text": [
      "Model: \"sequential\"\n",
      "_________________________________________________________________\n",
      "Layer (type)                 Output Shape              Param #   \n",
      "=================================================================\n",
      "conv2d (Conv2D)              (None, 222, 222, 64)      1792      \n",
      "_________________________________________________________________\n",
      "conv2d_1 (Conv2D)            (None, 220, 220, 64)      36928     \n",
      "_________________________________________________________________\n",
      "max_pooling2d (MaxPooling2D) (None, 110, 110, 64)      0         \n",
      "_________________________________________________________________\n",
      "dropout (Dropout)            (None, 110, 110, 64)      0         \n",
      "_________________________________________________________________\n",
      "conv2d_2 (Conv2D)            (None, 108, 108, 128)     73856     \n",
      "_________________________________________________________________\n",
      "conv2d_3 (Conv2D)            (None, 106, 106, 128)     147584    \n",
      "_________________________________________________________________\n",
      "max_pooling2d_1 (MaxPooling2 (None, 53, 53, 128)       0         \n",
      "_________________________________________________________________\n",
      "dropout_1 (Dropout)          (None, 53, 53, 128)       0         \n",
      "_________________________________________________________________\n",
      "flatten (Flatten)            (None, 359552)            0         \n",
      "_________________________________________________________________\n",
      "dense (Dense)                (None, 128)               46022784  \n",
      "_________________________________________________________________\n",
      "dropout_2 (Dropout)          (None, 128)               0         \n",
      "_________________________________________________________________\n",
      "dense_1 (Dense)              (None, 3)                 387       \n",
      "=================================================================\n",
      "Total params: 46,283,331\n",
      "Trainable params: 46,283,331\n",
      "Non-trainable params: 0\n",
      "_________________________________________________________________\n"
     ]
    }
   ],
   "source": [
    "model = Sequential()\n",
    "\n",
    "model.add(Conv2D(64,(3,3),activation='relu',input_shape=input_shape))\n",
    "model.add(Conv2D(64,(3,3),activation='relu'))\n",
    "model.add(MaxPool2D(pool_size=(2,2)))\n",
    "model.add(Dropout(0.2))\n",
    "\n",
    "model.add(Conv2D(128,(3,3),activation='relu'))\n",
    "model.add(Conv2D(128,(3,3),activation='relu'))\n",
    "model.add(MaxPool2D(pool_size=(2,2)))\n",
    "model.add(Dropout(0.2))\n",
    "\n",
    "model.add(Flatten())\n",
    "model.add(Dense(128,activation='relu'))\n",
    "model.add(Dropout(0.2))\n",
    "model.add(Dense(num_classes,activation='softmax'))\n",
    "model.compile(loss='categorical_crossentropy',optimizer='adam',metrics=['accuracy'])\n",
    "\n",
    "model.summary()"
   ]
  },
  {
   "cell_type": "code",
   "execution_count": 8,
   "metadata": {},
   "outputs": [
    {
     "name": "stdout",
     "output_type": "stream",
     "text": [
      "Epoch 1/20\n",
      "18/18 [==============================] - 119s 7s/step - loss: 2.0787 - accuracy: 0.6370 - val_loss: 0.5468 - val_accuracy: 0.8056\n",
      "Epoch 2/20\n",
      "18/18 [==============================] - 122s 7s/step - loss: 0.4593 - accuracy: 0.8122 - val_loss: 0.4721 - val_accuracy: 0.7963\n",
      "Epoch 3/20\n",
      "18/18 [==============================] - 125s 7s/step - loss: 0.4295 - accuracy: 0.8150 - val_loss: 0.4860 - val_accuracy: 0.8009\n",
      "Epoch 4/20\n",
      "18/18 [==============================] - 128s 7s/step - loss: 0.4183 - accuracy: 0.8192 - val_loss: 0.4795 - val_accuracy: 0.7917\n",
      "Epoch 5/20\n",
      "18/18 [==============================] - 125s 7s/step - loss: 0.4193 - accuracy: 0.8206 - val_loss: 0.4591 - val_accuracy: 0.8009\n",
      "Epoch 6/20\n",
      "18/18 [==============================] - 124s 7s/step - loss: 0.4150 - accuracy: 0.8234 - val_loss: 0.4802 - val_accuracy: 0.8009\n",
      "Epoch 7/20\n",
      "18/18 [==============================] - 127s 7s/step - loss: 0.4184 - accuracy: 0.8192 - val_loss: 0.4840 - val_accuracy: 0.7963\n",
      "Epoch 8/20\n",
      "18/18 [==============================] - 125s 7s/step - loss: 0.4304 - accuracy: 0.8220 - val_loss: 0.4769 - val_accuracy: 0.7593\n",
      "Epoch 9/20\n",
      "18/18 [==============================] - 126s 7s/step - loss: 0.3992 - accuracy: 0.8220 - val_loss: 0.4783 - val_accuracy: 0.7963\n",
      "Epoch 10/20\n",
      "18/18 [==============================] - 127s 7s/step - loss: 0.4486 - accuracy: 0.8081 - val_loss: 0.4517 - val_accuracy: 0.8009\n",
      "Epoch 11/20\n",
      "18/18 [==============================] - 131s 7s/step - loss: 0.4077 - accuracy: 0.8248 - val_loss: 0.4568 - val_accuracy: 0.7963\n",
      "Epoch 12/20\n",
      "18/18 [==============================] - 134s 7s/step - loss: 0.4116 - accuracy: 0.8192 - val_loss: 0.4750 - val_accuracy: 0.7917\n",
      "Epoch 13/20\n",
      "18/18 [==============================] - 132s 7s/step - loss: 0.4363 - accuracy: 0.8206 - val_loss: 0.4359 - val_accuracy: 0.8009\n",
      "Epoch 14/20\n",
      "18/18 [==============================] - 132s 7s/step - loss: 0.4149 - accuracy: 0.8234 - val_loss: 0.4460 - val_accuracy: 0.7963\n",
      "Epoch 15/20\n",
      "18/18 [==============================] - 130s 7s/step - loss: 0.4152 - accuracy: 0.8164 - val_loss: 0.4811 - val_accuracy: 0.8009\n",
      "Epoch 16/20\n",
      "18/18 [==============================] - 107s 6s/step - loss: 0.4015 - accuracy: 0.8220 - val_loss: 0.4539 - val_accuracy: 0.8056\n",
      "Epoch 17/20\n",
      "18/18 [==============================] - 111s 6s/step - loss: 0.4997 - accuracy: 0.8150 - val_loss: 0.4896 - val_accuracy: 0.8009\n",
      "Epoch 18/20\n",
      "18/18 [==============================] - 111s 6s/step - loss: 0.4067 - accuracy: 0.8150 - val_loss: 0.4301 - val_accuracy: 0.8056\n",
      "Epoch 19/20\n",
      "18/18 [==============================] - 110s 6s/step - loss: 0.4008 - accuracy: 0.8248 - val_loss: 0.4281 - val_accuracy: 0.8056\n",
      "Epoch 20/20\n",
      "18/18 [==============================] - 109s 6s/step - loss: 0.3994 - accuracy: 0.8248 - val_loss: 0.4414 - val_accuracy: 0.7917\n",
      "6/6 [==============================] - 6s 957ms/step - loss: 0.4414 - accuracy: 0.7917\n",
      "Test Loss 0.44140467047691345\n",
      "Test Accuracy 0.7916666865348816\n"
     ]
    }
   ],
   "source": [
    "hist = model.fit(X_train,y_train,batch_size = 40,epochs = 20,verbose=1,validation_data=(X_test,y_test))\n",
    "score = model.evaluate(X_test,y_test,batch_size = 40)\n",
    "print('Test Loss',score[0])\n",
    "print(\"Test Accuracy\",score[1])"
   ]
  },
  {
   "cell_type": "markdown",
   "metadata": {},
   "source": [
    "### Saving this model "
   ]
  },
  {
   "cell_type": "code",
   "execution_count": 12,
   "metadata": {},
   "outputs": [
    {
     "name": "stdout",
     "output_type": "stream",
     "text": [
      "WARNING:tensorflow:From C:\\Users\\kshit\\anaconda3\\lib\\site-packages\\tensorflow\\python\\training\\tracking\\tracking.py:111: Model.state_updates (from tensorflow.python.keras.engine.training) is deprecated and will be removed in a future version.\n",
      "Instructions for updating:\n",
      "This property should not be used in TensorFlow 2.0, as updates are applied automatically.\n",
      "WARNING:tensorflow:From C:\\Users\\kshit\\anaconda3\\lib\\site-packages\\tensorflow\\python\\training\\tracking\\tracking.py:111: Layer.updates (from tensorflow.python.keras.engine.base_layer) is deprecated and will be removed in a future version.\n",
      "Instructions for updating:\n",
      "This property should not be used in TensorFlow 2.0, as updates are applied automatically.\n",
      "INFO:tensorflow:Assets written to: eye_model_2\\assets\n",
      "Saved model to disk\n"
     ]
    }
   ],
   "source": [
    "#model.save('./models/Model_Name', save_format='tf')\n",
    "model.save('eye_model_2',save_format='tf')\n",
    "print(\"Saved model to disk\")"
   ]
  },
  {
   "cell_type": "markdown",
   "metadata": {},
   "source": [
    "### Reloading the model"
   ]
  },
  {
   "cell_type": "code",
   "execution_count": 10,
   "metadata": {},
   "outputs": [
    {
     "name": "stdout",
     "output_type": "stream",
     "text": [
      "Model: \"sequential\"\n",
      "_________________________________________________________________\n",
      "Layer (type)                 Output Shape              Param #   \n",
      "=================================================================\n",
      "conv2d (Conv2D)              (None, 222, 222, 64)      1792      \n",
      "_________________________________________________________________\n",
      "conv2d_1 (Conv2D)            (None, 220, 220, 64)      36928     \n",
      "_________________________________________________________________\n",
      "max_pooling2d (MaxPooling2D) (None, 110, 110, 64)      0         \n",
      "_________________________________________________________________\n",
      "dropout (Dropout)            (None, 110, 110, 64)      0         \n",
      "_________________________________________________________________\n",
      "conv2d_2 (Conv2D)            (None, 108, 108, 128)     73856     \n",
      "_________________________________________________________________\n",
      "conv2d_3 (Conv2D)            (None, 106, 106, 128)     147584    \n",
      "_________________________________________________________________\n",
      "max_pooling2d_1 (MaxPooling2 (None, 53, 53, 128)       0         \n",
      "_________________________________________________________________\n",
      "dropout_1 (Dropout)          (None, 53, 53, 128)       0         \n",
      "_________________________________________________________________\n",
      "flatten (Flatten)            (None, 359552)            0         \n",
      "_________________________________________________________________\n",
      "dense (Dense)                (None, 128)               46022784  \n",
      "_________________________________________________________________\n",
      "dropout_2 (Dropout)          (None, 128)               0         \n",
      "_________________________________________________________________\n",
      "dense_1 (Dense)              (None, 3)                 387       \n",
      "=================================================================\n",
      "Total params: 46,283,331\n",
      "Trainable params: 46,283,331\n",
      "Non-trainable params: 0\n",
      "_________________________________________________________________\n"
     ]
    }
   ],
   "source": [
    "# load and evaluate a saved model\n",
    "from numpy import loadtxt\n",
    "from keras.models import load_model\n",
    "\n",
    "# load model\n",
    "# model = load_model('eye_model_2.pb')\n",
    "# summarize model.\n",
    "# model.summary()"
   ]
  },
  {
   "cell_type": "code",
   "execution_count": 11,
   "metadata": {},
   "outputs": [
    {
     "name": "stdout",
     "output_type": "stream",
     "text": [
      "6/6 [==============================] - 6s 997ms/step - loss: 0.4414 - accuracy: 0.7917\n",
      "Test Loss 0.44140467047691345\n",
      "Test Accuracy 0.7916666865348816\n"
     ]
    }
   ],
   "source": [
    "#score = model.evaluate(X_test,y_test,batch_size = 40)\n",
    "#print('Test Loss',score[0])\n",
    "#print(\"Test Accuracy\",score[1])"
   ]
  }
 ],
 "metadata": {
  "kernelspec": {
   "display_name": "Python 3",
   "language": "python",
   "name": "python3"
  },
  "language_info": {
   "codemirror_mode": {
    "name": "ipython",
    "version": 3
   },
   "file_extension": ".py",
   "mimetype": "text/x-python",
   "name": "python",
   "nbconvert_exporter": "python",
   "pygments_lexer": "ipython3",
   "version": "3.8.5"
  }
 },
 "nbformat": 4,
 "nbformat_minor": 4
}
